{
  "nbformat": 4,
  "nbformat_minor": 0,
  "metadata": {
    "colab": {
      "name": "WebScrapping2.ipynb",
      "provenance": [],
      "authorship_tag": "ABX9TyMFdp9E8ohAJlmBRJGXocYJ",
      "include_colab_link": true
    },
    "kernelspec": {
      "name": "python3",
      "display_name": "Python 3"
    },
    "language_info": {
      "name": "python"
    }
  },
  "cells": [
    {
      "cell_type": "markdown",
      "metadata": {
        "id": "view-in-github",
        "colab_type": "text"
      },
      "source": [
        "<a href=\"https://colab.research.google.com/github/jshivamds272/Web-Scrapping/blob/main/WebScrapping2.ipynb\" target=\"_parent\"><img src=\"https://colab.research.google.com/assets/colab-badge.svg\" alt=\"Open In Colab\"/></a>"
      ]
    },
    {
      "cell_type": "code",
      "metadata": {
        "id": "vD9ckC-xxAX7"
      },
      "source": [
        "import numpy as np\n",
        "import pandas as pd\n",
        "from bs4 import  BeautifulSoup"
      ],
      "execution_count": 2,
      "outputs": []
    },
    {
      "cell_type": "code",
      "metadata": {
        "id": "oh1l_urCzzBU"
      },
      "source": [
        "import requests   #imported request from server\n",
        "import html5lib   #imported html library"
      ],
      "execution_count": 3,
      "outputs": []
    },
    {
      "cell_type": "code",
      "metadata": {
        "id": "EsFdJpQ_z-QX"
      },
      "source": [
        "url=\"https://www.findeasy.in/top-indian-states-by-population/\"\n",
        "data_response=requests.get(url)\n",
        "\n",
        "soup=BeautifulSoup(data_response.text,'html.parser')\n",
        " "
      ],
      "execution_count": 4,
      "outputs": []
    },
    {
      "cell_type": "code",
      "metadata": {
        "id": "UsFyVfOPS0MX"
      },
      "source": [
        "url1=\"https://en.wikipedia.org/wiki/Rice_production_in_India\"\n",
        "response=requests.get(url1)\n",
        "soup1=BeautifulSoup(response.text,'html.parser')\n",
        "html1=soup1.find('table',{'class':'wikitable'})"
      ],
      "execution_count": 5,
      "outputs": []
    },
    {
      "cell_type": "code",
      "metadata": {
        "colab": {
          "base_uri": "https://localhost:8080/",
          "height": 35
        },
        "id": "Fk4pQPttVBJJ",
        "outputId": "f8cb7a5d-59b5-4e93-d72d-e67af04fdbe2"
      },
      "source": [
        "soup1.find('title').text"
      ],
      "execution_count": null,
      "outputs": [
        {
          "output_type": "execute_result",
          "data": {
            "application/vnd.google.colaboratory.intrinsic+json": {
              "type": "string"
            },
            "text/plain": [
              "'Rice production in India - Wikipedia'"
            ]
          },
          "metadata": {
            "tags": []
          },
          "execution_count": 6
        }
      ]
    },
    {
      "cell_type": "code",
      "metadata": {
        "colab": {
          "base_uri": "https://localhost:8080/",
          "height": 35
        },
        "id": "Ypwa9buQVQbs",
        "outputId": "3bda9df4-8db2-4195-dfe5-aadf50799040"
      },
      "source": [
        "soup1.find('p').text    #gives first p tag text"
      ],
      "execution_count": null,
      "outputs": [
        {
          "output_type": "execute_result",
          "data": {
            "application/vnd.google.colaboratory.intrinsic+json": {
              "type": "string"
            },
            "text/plain": [
              "'Rice production in India is an important part of the national economy.[1]\\n'"
            ]
          },
          "metadata": {
            "tags": []
          },
          "execution_count": 7
        }
      ]
    },
    {
      "cell_type": "code",
      "metadata": {
        "colab": {
          "base_uri": "https://localhost:8080/"
        },
        "id": "2bNgDTKcV1Cz",
        "outputId": "17106c10-51ea-40ed-fb5a-394828c5d415"
      },
      "source": [
        "para=soup1.find_all('p')\n",
        "for i in para:\n",
        "  print(i.text)"
      ],
      "execution_count": null,
      "outputs": [
        {
          "output_type": "stream",
          "text": [
            "Rice production in India is an important part of the national economy.[1]\n",
            "\n",
            "India is the world's second largest producer of rice, and the largest exporter of rice in the world. The Production increased from 53.6 million tons in FY 1980 to 120 million tons in FY2020-21. Most of this increase was the result of an increase in yields; the number of hectares did not increase during this period. \n",
            "\n",
            "Rice is one of the chief grains of India. Moreover, this country has the largest area under rice cultivation, as it is one of the principal food crops. It is in fact the dominant crop of the country. India is one of the leading producers of this crop. Rice is the basic food crop and being a tropical plant, it flourishes comfortably in hot and humid climate. Rice is mainly grown in rain fed areas that receive heavy annual rainfall. That is why it is fundamentally a kharif crop in India. It demands temperature of around 25 degree Celsius and above and rainfall of more than 100 cm. Rice is also grown through irrigation in those areas that receives comparatively less rainfall. Rice is the staple food of eastern and southern parts of India. \n",
            "\n",
            "Rice can be cultivated by different methods based on the type of region. But in India, the traditional methods are still in use for harvesting rice. The fields are initially ploughed and then fertiliser is applied which typically consists of cow dung and then the field is smoothed. The seeds are transplanted by hand and then through proper irrigation, the seeds are cultivated. Rice grows on a variety of soils like silts, loams and gravels. It can also tolerate alkaline as well as acid soils. However, clayey loam is well suited to the raising of this crop. Actually the clayey soil can be easily converted into mud in which rice seedlings can be transplanted easily. Proper care has to be taken as this crop thrives if the soil remains wet and is under water during its growing years. Rice fields should be level and should have low mud walls for retaining water. In the plain areas, excess rainwater is allowed to inundate the rice fields and flow slowly. Rice raised in the well watered lowland areas is known as lowland or wet rice. In the hilly areas, slopes are cut into terraces for the cultivation of rice. Thus, the rice grown in the hilly areas is known as dry or upland rice. The yield of upland rice per hectare is comparatively less than that of the wet rice.\n",
            "\n",
            "The regions cultivating this crop in India is distinguished as the western coastal strip, the eastern coastal strip, covering all the primary deltas, Assam plains and surrounding low hills, foothills and Terai region- along the Himalayas and states like West Bengal, Bihar, eastern Uttar Pradesh, eastern Madhya Pradesh, northern Andhra Pradesh and Odisha. India, being a land of eternal growing season, and the deltas of the Ganges-Bramhaputra(in West Bengal), Kaveri River, Krishna River, Godavari River, Indravati River and Mahanadi River with a thick set-up of canal irrigation like Hirakud Dam and Indravati Dam, permits farmers to raise two, and in some pockets, even three crops a year. Irrigation has made even three crops a year possible. Irrigation has made it feasible even for Punjab and Haryana, known for their baked climate, to grow rice. They even export their excess to other states. Punjab and Haryana grow prized rice for export purposes. The hilly terraced fields from Kashmir to Assam are idyllically suited for rice farming, with age-old hill irrigational conveniences. High yielding kinds, enhanced planting methods, promised irrigation water supply and mounting use of fertilizers have together led to beneficial and quick results. It is the rain fed area that cuts down average yields per hectare.\n",
            "\n",
            "In some of the states like West Bengal, Assam and Orissa two crops of rice are raised in a year. Winter season in northwestern India is extremely cold for rice. Rice is considered as the master crop of coastal India and in some regions of eastern India, where during the summer and monsoon seasons, both high temperature and heavy rainfall provide ideal conditions for the cultivation of rice. Almost all parts of India are suitable for raising rice during the summer season provided that the water is available. Thus, rice is also raised even in those parts of western Uttar Pradesh, Punjab and Haryana where low level areas are waterlogged during the summer monsoon rainy season.\n",
            "\n",
            "Winter rice crop is a long duration crop and summer rice crop is a short duration crop. At some places in the eastern and southern parts of India, rice crop of short duration is followed by the rice crop of long duration. Winter rice crop is raised preferably in low-lying areas that remain flooded mainly during the rainy season. Autumn rice is raised in Uttar Pradesh, Maharashtra, Rajasthan, Madhya Pradesh, Punjab and Himachal Pradesh. Summer, autumn and winter rice crops are raised in West Bengal, Andhra Pradesh, Assam and Orissa. Summer rice crop is raised on a small scale and on a small area. However, winter rice crop is actually the leading rice crop accounting for a major portion of the total Hectare under rice in all seasons in the country. Moreover, in the last few years, several steps in order to augment yield per hectare were taken up very seriously at all levels. India ranks fourth in the production of wheat & second in production of rice in the world. Favorable Geographical Condition for Wheat Cultivation: In India, wheat is a winter crop. Wheat requires a moderately cool climate with moderate rain. In India, it is grown in winter. It needs temperature 10 degree C to 15 degree C for its cultivation. It thrives well in an average temperature of 16-degree C. Warm and sunny weather is essential at the time of ripening.\n",
            "\n",
            "Source: http://drdpat.bih.nic.in/HS-B-Table-01.htm.\n",
            "\n",
            "India is one of the biggest exporters of rice in the world.[3][4][5]\n",
            "\n",
            "India is the leading exporter of the Basmati Rice to the global market.[6] In the financial year 2018-19, India exported around 4.4 million metric tons[7] of Basmati rice worth USD 4.7 billion.[6]\n",
            "\n",
            "The Indian states with the highest areas of Basmati rice under production are Jammu and Kashmir, Himachal Pradesh, Punjab, Haryana, Delhi, Uttarakhand and Western Uttar Pradesh.[6]\n",
            "\n",
            "According to APEDA, \"any rice other than Basmati Rice is named as Non-Basmati rice.\"[8] In 2018-19, India exported 7.5 million metric tons of Non-Basmati rice worth USD 3 billion.[8] The main export destinations were Nepal, Benin, Senegal, Bangladesh and Guinea.[8]\n",
            "\n"
          ],
          "name": "stdout"
        }
      ]
    },
    {
      "cell_type": "code",
      "metadata": {
        "colab": {
          "base_uri": "https://localhost:8080/",
          "height": 52
        },
        "id": "YQil_RokcTl8",
        "outputId": "94693680-d4fa-42d9-b691-b0a0291e62a6"
      },
      "source": [
        "paraq1=soup1.find('div',class_=\"thumb tright\").text\n",
        "paraq1"
      ],
      "execution_count": null,
      "outputs": [
        {
          "output_type": "execute_result",
          "data": {
            "application/vnd.google.colaboratory.intrinsic+json": {
              "type": "string"
            },
            "text/plain": [
              "' Major cropping areas in India. Rice shaded in light jade green indicates the most important and extensive growing areas in the east of the country'"
            ]
          },
          "metadata": {
            "tags": []
          },
          "execution_count": 9
        }
      ]
    },
    {
      "cell_type": "code",
      "metadata": {
        "id": "1WIwkqsIdDLO"
      },
      "source": [
        "para=soup1.find_all('p')\n",
        "paragraphs=[]\n",
        "for i in para:\n",
        "  paragraphs.append(i.text)"
      ],
      "execution_count": null,
      "outputs": []
    },
    {
      "cell_type": "code",
      "metadata": {
        "colab": {
          "base_uri": "https://localhost:8080/",
          "height": 170
        },
        "id": "cK3aXHitdjMd",
        "outputId": "92dc6c70-9ab3-4331-c722-41752997578c"
      },
      "source": [
        "paragraphs[2]"
      ],
      "execution_count": null,
      "outputs": [
        {
          "output_type": "execute_result",
          "data": {
            "application/vnd.google.colaboratory.intrinsic+json": {
              "type": "string"
            },
            "text/plain": [
              "'Rice is one of the chief grains of India. Moreover, this country has the largest area under rice cultivation, as it is one of the principal food crops. It is in fact the dominant crop of the country. India is one of the leading producers of this crop. Rice is the basic food crop and being a tropical plant, it flourishes comfortably in hot and humid climate. Rice is mainly grown in rain fed areas that receive heavy annual rainfall. That is why it is fundamentally a kharif crop in India. It demands temperature of around 25 degree Celsius and above and rainfall of more than 100\\xa0cm. Rice is also grown through irrigation in those areas that receives comparatively less rainfall. Rice is the staple food of eastern and southern parts of India. \\n'"
            ]
          },
          "metadata": {
            "tags": []
          },
          "execution_count": 11
        }
      ]
    },
    {
      "cell_type": "code",
      "metadata": {
        "colab": {
          "base_uri": "https://localhost:8080/"
        },
        "id": "pm1-X66Ou0a4",
        "outputId": "bc1626c9-4c49-4ea1-d0d9-5e0e1f2eb997"
      },
      "source": [
        "\n",
        "soup1.find('table')['class']   #classes name whose tag is ;table'"
      ],
      "execution_count": null,
      "outputs": [
        {
          "output_type": "execute_result",
          "data": {
            "text/plain": [
              "['wikitable']"
            ]
          },
          "metadata": {
            "tags": []
          },
          "execution_count": 30
        }
      ]
    },
    {
      "cell_type": "code",
      "metadata": {
        "colab": {
          "base_uri": "https://localhost:8080/"
        },
        "id": "7x12Ao84tFOd",
        "outputId": "e9e8c345-f602-45f3-f3f0-f0711c37379f"
      },
      "source": [
        "pd.read_html(str(soup.find('table')))   #1st table"
      ],
      "execution_count": null,
      "outputs": [
        {
          "output_type": "execute_result",
          "data": {
            "text/plain": [
              "[       0                                     1            2               3\n",
              " 0   Rank                                States  2011 Census  2021 estimates\n",
              " 1      1                         Uttar Pradesh    199812341       24 Crores\n",
              " 2      2                           Maharashtra    112374333    12.43 Crores\n",
              " 3      3                                 Bihar    104099452    12.70 Crores\n",
              " 4      4                           West Bengal     91276115       10 Crores\n",
              " 5      5                        Madhya Pradesh     72626809     8.70 Crores\n",
              " 6      6                            Tamil Nadu     72147030     7.85 Crores\n",
              " 7      7                             Rajasthan     68548437     8.25 Crores\n",
              " 8      8                             Karnataka     61095297     6.83 Crores\n",
              " 9      9                               Gujarat     60439692     6.43 Crores\n",
              " 10    10                        Andhra Pradesh     49576777     5.44 Crores\n",
              " 11    11                                Odisha     41974218     4.69 Crores\n",
              " 12    12                             Telangana     35004000     3.98 Crores\n",
              " 13    13                                Kerala     33406061     3.60 Crores\n",
              " 14    14                             Jharkhand     32988134     3.92 Crores\n",
              " 15    15                                 Assam     31205576     3.60 Crores\n",
              " 16    16                                Punjab     27743338        3 Crores\n",
              " 17    17                          Chhattisgarh     25545198     2.98 Crores\n",
              " 18    18                               Haryana     25351462     2.85 Crores\n",
              " 19   UT1                                 Delhi     16787941     1.90 Crores\n",
              " 20   UT2                       Jammu & Kashmir     12258433     1.38 Crores\n",
              " 21    19                           Uttarakhand     10086292     1.14 Crores\n",
              " 22    20                      Himachal Pradesh      6864602        75 Lakhs\n",
              " 23    21                               Tripura      3673917        42 Lakhs\n",
              " 24    22                             Meghalaya      2966889        34 Lakhs\n",
              " 25    23                               Manipur      2855794        32 Lakhs\n",
              " 26    24                              Nagaland      1978502        23 Lakhs\n",
              " 27    25                                   Goa      1458545        16 Lakhs\n",
              " 28    26                     Arunachal Pradesh      1383727     15.92 Lakhs\n",
              " 29   UT3                            Puducherry      1247953     14.32 Lakhs\n",
              " 30    27                               Mizoram      1097206     12.55 Lakhs\n",
              " 31   UT4                            Chandigarh      1055450     11.69 Lakhs\n",
              " 32    28                                Sikkim       610577         7 Lakhs\n",
              " 33   UT5  Dadra & Nagar Haveli and Daman & Diu       586956      6.20 Lakhs\n",
              " 34   UT6                     Andaman & Nicobar       380581       4.2 Lakhs\n",
              " 35   UT7                                Ladakh       274289      2.90 Lakhs\n",
              " 36   UT8                           Lakshadweep        64473           74151]"
            ]
          },
          "metadata": {
            "tags": []
          },
          "execution_count": 20
        }
      ]
    },
    {
      "cell_type": "code",
      "metadata": {
        "id": "YSFEKGOTXj-u"
      },
      "source": [
        "anchor=soup1.find_all('a')\n",
        "for link in anchor:\n",
        "  print(link.text)"
      ],
      "execution_count": null,
      "outputs": []
    },
    {
      "cell_type": "code",
      "metadata": {
        "colab": {
          "base_uri": "https://localhost:8080/"
        },
        "id": "Z5RgHlkDY8po",
        "outputId": "e63ba4ba-9050-43ee-cb4f-e50839a802e3"
      },
      "source": [
        "a1=soup1.find_all('a')\n",
        "for link in a1:\n",
        "  if link.get('href')!='#':\n",
        "    print(link.get('href'))\n",
        " "
      ],
      "execution_count": null,
      "outputs": [
        {
          "output_type": "stream",
          "text": [
            "None\n",
            "#mw-head\n",
            "#searchInput\n",
            "/wiki/India\n",
            "/wiki/Economy_of_India\n",
            "#cite_note-LOC-1\n",
            "/wiki/File:Major_crop_areas_India.png\n",
            "/wiki/File:Major_crop_areas_India.png\n",
            "/wiki/File:Paddy_Field_at_Eravathour_Thrissur.jpg\n",
            "/wiki/File:Paddy_Field_at_Eravathour_Thrissur.jpg\n",
            "/wiki/File:Mature_Rice_(India)_by_Augustus_Binu.jpg\n",
            "/wiki/File:Mature_Rice_(India)_by_Augustus_Binu.jpg\n",
            "/wiki/Rice\n",
            "/wiki/File:Paddy_crop_near_Malkapuram,_Eluru.jpg\n",
            "/wiki/File:Paddy_crop_near_Malkapuram,_Eluru.jpg\n",
            "/wiki/Rice\n",
            "/wiki/India\n",
            "/wiki/Rice\n",
            "/wiki/India\n",
            "/wiki/Irrigation\n",
            "/wiki/Alkaline\n",
            "/wiki/Acid_soil\n",
            "/wiki/Water\n",
            "/wiki/Rain\n",
            "/wiki/Assam\n",
            "/wiki/Terai_region\n",
            "/wiki/Himalaya\n",
            "/wiki/West_Bengal\n",
            "/wiki/Bihar\n",
            "/wiki/Uttar_Pradesh\n",
            "/wiki/Madhya_Pradesh\n",
            "/wiki/Andhra_Pradesh\n",
            "/wiki/Odisha,_India\n",
            "/wiki/Ganges_Delta\n",
            "/wiki/West_Bengal\n",
            "/wiki/Kaveri_River\n",
            "/wiki/Krishna_River\n",
            "/wiki/Godavari_River\n",
            "/wiki/Indravati_River\n",
            "/wiki/Mahanadi_River\n",
            "/wiki/Hirakud_Dam\n",
            "/wiki/Indravati_Dam\n",
            "/wiki/Irrigation\n",
            "/wiki/Punjab,_India\n",
            "/wiki/Haryana\n",
            "/wiki/Rice\n",
            "/wiki/Kashmir\n",
            "/wiki/West_Bengal\n",
            "/wiki/Assam\n",
            "/wiki/Orissa,_India\n",
            "/wiki/Rice\n",
            "/wiki/Uttar_Pradesh\n",
            "/wiki/Punjab,_India\n",
            "/wiki/Haryana\n",
            "#Rice_Production_by_Year\n",
            "#Rice_Production_by_State\n",
            "#Rice_export_from_India\n",
            "#Basmati_rice\n",
            "#Non_Basmati_rice\n",
            "#References\n",
            "/w/index.php?title=Rice_production_in_India&action=edit&section=1\n",
            "http://drdpat.bih.nic.in/HS-B-Table-01.htm\n",
            "/w/index.php?title=Rice_production_in_India&action=edit&section=2\n",
            "/wiki/File:Rice_Production_by_States_India.png\n",
            "/wiki/File:Rice_Production_by_States_India.png\n",
            "#cite_note-2\n",
            "/wiki/West_Bengal\n",
            "/wiki/Uttar_Pradesh\n",
            "/wiki/Punjab\n",
            "/wiki/Odisha\n",
            "/wiki/Andhra_Pradesh\n",
            "/wiki/Bihar\n",
            "/wiki/Chhattisgarh\n",
            "/wiki/Tamil_Nadu\n",
            "/wiki/Assam\n",
            "/wiki/Telangana\n",
            "/wiki/Haryana\n",
            "/wiki/Madhya_Pradesh\n",
            "/wiki/Maharashtra\n",
            "/wiki/Gujarat\n",
            "/wiki/Uttarakhand\n",
            "/wiki/Kerala\n",
            "/wiki/Jammu_and_Kashmir_(state)\n",
            "/wiki/Rajasthan\n",
            "/wiki/Himachal_Pradesh\n",
            "/w/index.php?title=Rice_production_in_India&action=edit&section=3\n",
            "#cite_note-3\n",
            "#cite_note-4\n",
            "#cite_note-5\n",
            "/w/index.php?title=Rice_production_in_India&action=edit&section=4\n",
            "#cite_note-Basmati_rice-6\n",
            "#cite_note-7\n",
            "#cite_note-Basmati_rice-6\n",
            "#cite_note-Basmati_rice-6\n",
            "/w/index.php?title=Rice_production_in_India&action=edit&section=5\n",
            "https://apeda.gov.in/apedawebsite/\n",
            "#cite_note-Non_Basmati_Rice-8\n",
            "#cite_note-Non_Basmati_Rice-8\n",
            "#cite_note-Non_Basmati_Rice-8\n",
            "/w/index.php?title=Rice_production_in_India&action=edit&section=6\n",
            "https://commons.wikimedia.org/wiki/Category:Paddy_fields_in_India\n",
            "/wiki/Copyright_status_of_works_by_the_federal_government_of_the_United_States\n",
            "/wiki/Library_of_Congress_Country_Studies\n",
            "http://lcweb2.loc.gov/frd/cs/\n",
            "#cite_ref-LOC_1-0\n",
            "http://lcweb2.loc.gov/cgi-bin/query/r?frd/cstdy:@field(DOCID+in0139)\n",
            "/wiki/Library_of_Congress\n",
            "/wiki/Washington_D.C.\n",
            "#cite_ref-2\n",
            "https://data.gov.in/resources/state-wise-production-rice-2010-11-2014-15-ministry-agriculture-and-farmers-welfare\n",
            "#cite_ref-3\n",
            "http://www.worldstopexports.com/rice-exports-country/\n",
            "#cite_ref-4\n",
            "https://www.statista.com/statistics/255947/top-rice-exporting-countries-worldwide-2011/\n",
            "#cite_ref-5\n",
            "https://oec.world/en/profile/hs92/1006/\n",
            "#cite_ref-Basmati_rice_6-0\n",
            "#cite_ref-Basmati_rice_6-1\n",
            "#cite_ref-Basmati_rice_6-2\n",
            "http://apeda.gov.in/apedawebsite/SubHead_Products/Basmati_Rice.htm\n",
            "#cite_ref-7\n",
            "http://drdpat.bih.nic.in/Rice%20Export.htm\n",
            "#cite_ref-Non_Basmati_Rice_8-0\n",
            "#cite_ref-Non_Basmati_Rice_8-1\n",
            "#cite_ref-Non_Basmati_Rice_8-2\n",
            "http://apeda.gov.in/apedawebsite/SubHead_Products/Non_Basmati_Rice.htm\n",
            "/wiki/Template:Rice_production\n",
            "/wiki/Template_talk:Rice_production\n",
            "https://en.wikipedia.org/w/index.php?title=Template:Rice_production&action=edit\n",
            "/wiki/Rice\n",
            "/wiki/Rice_production_in_Bangladesh\n",
            "/wiki/Rice_production_in_Bhutan\n",
            "/wiki/Rice_production_in_Bolivia\n",
            "/wiki/Rice_production_in_Brazil\n",
            "/wiki/Rice_production_in_Cambodia\n",
            "/wiki/Rice_production_in_Chad\n",
            "/wiki/Rice_production_in_China\n",
            "/wiki/Rice_production_in_Cuba\n",
            "/wiki/Rice_production_in_Guyana\n",
            "/wiki/Rice_production_in_Haiti\n",
            "None\n",
            "/wiki/Rice_production_in_Indonesia\n",
            "/wiki/Rice_production_in_Iran\n",
            "/wiki/Rice_production_in_Japan\n",
            "/wiki/Rice_production_in_Laos\n",
            "/wiki/Rice_production_in_Liberia\n",
            "/wiki/Rice_production_in_Madagascar\n",
            "/wiki/Rice_production_in_Malaysia\n",
            "/wiki/Rice_production_in_Mali\n",
            "/wiki/Rice_production_in_Myanmar\n",
            "/wiki/Rice_production_in_Nepal\n",
            "/wiki/Rice_production_in_Pakistan\n",
            "/wiki/Rice_production_in_Panama\n",
            "/wiki/Rice_production_in_the_Philippines\n",
            "/wiki/Rice_production_in_Romania\n",
            "/wiki/Rice_production_in_Sierra_Leone\n",
            "/wiki/Rice_production_in_South_Korea\n",
            "/wiki/Rice_production_in_Sri_Lanka\n",
            "/wiki/Rice_production_in_Thailand\n",
            "/wiki/Rice_production_in_the_United_States\n",
            "/wiki/Rice_production_in_Vietnam\n",
            "/wiki/File:White,_Brown,_Red_%26_Wild_rice.jpg\n",
            "/wiki/Template:Agriculture_in_India\n",
            "/wiki/Template_talk:Agriculture_in_India\n",
            "https://en.wikipedia.org/w/index.php?title=Template:Agriculture_in_India&action=edit\n",
            "/wiki/Agriculture_in_India\n",
            "/wiki/Areca_nut_production_in_India\n",
            "/wiki/Coconut_production_in_India\n",
            "/wiki/Coconut_production_in_Kerala\n",
            "/wiki/Coffee_production_in_India\n",
            "/wiki/Dairy_in_India\n",
            "/wiki/Fenugreek_production_in_India\n",
            "None\n",
            "/wiki/Sugar_industry_of_India\n",
            "/wiki/Biological_Diversity_Act,_2002\n",
            "/wiki/Ministry_of_Agriculture_%26_Farmers_Welfare\n",
            "/wiki/Pradhan_Mantri_Kisan_Samman_Nidhi\n",
            "/wiki/Protection_of_Plant_Varieties_and_Farmers%27_Rights_Act,_2001\n",
            "/wiki/Rashtriya_Krishi_Vikas_Yojana\n",
            "/wiki/History_of_agriculture_in_the_Indian_subcontinent\n",
            "/wiki/Farming_systems_in_India\n",
            "/wiki/Green_Revolution_in_India\n",
            "/wiki/Agriculture_in_ancient_Tamil_country\n",
            "/wiki/History_of_tea_in_India\n",
            "/wiki/Women_in_agriculture_in_India\n",
            "/wiki/Bayer_CropScience_Limited\n",
            "/wiki/Mahyco\n",
            "/wiki/Pantnagar_Seeds\n",
            "/wiki/Reuters_Market_Light\n",
            "/wiki/Suminter_India_Organics\n",
            "/wiki/UPL_(company)\n",
            "/wiki/Tractors_in_India\n",
            "/wiki/Central_Institute_for_Cotton_Research\n",
            "https://en.wikipedia.org/w/index.php?title=Rice_production_in_India&oldid=1022949441\n",
            "/wiki/Help:Category\n",
            "/wiki/Category:Rice_production_in_India\n",
            "/wiki/Category:Rice_production_by_country\n",
            "/wiki/Category:Commons_category_link_is_on_Wikidata\n",
            "/wiki/Category:Wikipedia_articles_incorporating_text_from_the_Library_of_Congress_Country_Studies\n",
            "/wiki/Category:Pages_using_Template:Loc_without_any_parameters\n",
            "/wiki/Special:MyTalk\n",
            "/wiki/Special:MyContributions\n",
            "/w/index.php?title=Special:CreateAccount&returnto=Rice+production+in+India\n",
            "/w/index.php?title=Special:UserLogin&returnto=Rice+production+in+India\n",
            "/wiki/Rice_production_in_India\n",
            "/wiki/Talk:Rice_production_in_India\n",
            "/wiki/Rice_production_in_India\n",
            "/w/index.php?title=Rice_production_in_India&action=edit\n",
            "/w/index.php?title=Rice_production_in_India&action=history\n",
            "/wiki/Main_Page\n",
            "/wiki/Main_Page\n",
            "/wiki/Wikipedia:Contents\n",
            "/wiki/Portal:Current_events\n",
            "/wiki/Special:Random\n",
            "/wiki/Wikipedia:About\n",
            "//en.wikipedia.org/wiki/Wikipedia:Contact_us\n",
            "https://donate.wikimedia.org/wiki/Special:FundraiserRedirector?utm_source=donate&utm_medium=sidebar&utm_campaign=C13_en.wikipedia.org&uselang=en\n",
            "/wiki/Help:Contents\n",
            "/wiki/Help:Introduction\n",
            "/wiki/Wikipedia:Community_portal\n",
            "/wiki/Special:RecentChanges\n",
            "/wiki/Wikipedia:File_Upload_Wizard\n",
            "/wiki/Special:WhatLinksHere/Rice_production_in_India\n",
            "/wiki/Special:RecentChangesLinked/Rice_production_in_India\n",
            "/wiki/Wikipedia:File_Upload_Wizard\n",
            "/wiki/Special:SpecialPages\n",
            "/w/index.php?title=Rice_production_in_India&oldid=1022949441\n",
            "/w/index.php?title=Rice_production_in_India&action=info\n",
            "/w/index.php?title=Special:CiteThisPage&page=Rice_production_in_India&id=1022949441&wpFormIdentifier=titleform\n",
            "https://www.wikidata.org/wiki/Special:EntityPage/Q7323094\n",
            "/w/index.php?title=Special:DownloadAsPdf&page=Rice_production_in_India&action=show-download-screen\n",
            "/w/index.php?title=Rice_production_in_India&printable=yes\n",
            "https://commons.wikimedia.org/wiki/Category:Paddy_fields_in_India\n",
            "https://pa.wikipedia.org/wiki/%E0%A8%AD%E0%A8%BE%E0%A8%B0%E0%A8%A4_%E0%A8%B5%E0%A8%BF%E0%A8%9A_%E0%A8%9A%E0%A9%8C%E0%A8%B2%E0%A8%BE%E0%A8%82_%E0%A8%A6%E0%A8%BE_%E0%A8%89%E0%A8%A4%E0%A8%AA%E0%A8%BE%E0%A8%A6%E0%A8%A8\n",
            "https://www.wikidata.org/wiki/Special:EntityPage/Q7323094#sitelinks-wikipedia\n",
            "//en.wikipedia.org/wiki/Wikipedia:Text_of_Creative_Commons_Attribution-ShareAlike_3.0_Unported_License\n",
            "//creativecommons.org/licenses/by-sa/3.0/\n",
            "//foundation.wikimedia.org/wiki/Terms_of_Use\n",
            "//foundation.wikimedia.org/wiki/Privacy_policy\n",
            "//www.wikimediafoundation.org/\n",
            "https://foundation.wikimedia.org/wiki/Privacy_policy\n",
            "/wiki/Wikipedia:About\n",
            "/wiki/Wikipedia:General_disclaimer\n",
            "//en.wikipedia.org/wiki/Wikipedia:Contact_us\n",
            "//en.m.wikipedia.org/w/index.php?title=Rice_production_in_India&mobileaction=toggle_view_mobile\n",
            "https://www.mediawiki.org/wiki/Special:MyLanguage/How_to_contribute\n",
            "https://stats.wikimedia.org/#/en.wikipedia.org\n",
            "https://foundation.wikimedia.org/wiki/Cookie_statement\n",
            "https://wikimediafoundation.org/\n",
            "https://www.mediawiki.org/\n"
          ],
          "name": "stdout"
        }
      ]
    },
    {
      "cell_type": "code",
      "metadata": {
        "id": "AXhq2kSJRksg"
      },
      "source": [
        "data1=pd.read_html(str(html1))[0]"
      ],
      "execution_count": null,
      "outputs": []
    },
    {
      "cell_type": "code",
      "metadata": {
        "id": "umIFQrz3UC4y"
      },
      "source": [
        "df=pd.DataFrame(data=data1)"
      ],
      "execution_count": null,
      "outputs": []
    },
    {
      "cell_type": "code",
      "metadata": {
        "colab": {
          "base_uri": "https://localhost:8080/",
          "height": 1000
        },
        "id": "AtK5AxxnUfT-",
        "outputId": "6a68fdf8-c6ef-4613-8dee-1b2d0a080035"
      },
      "source": [
        "\n",
        "df"
      ],
      "execution_count": null,
      "outputs": [
        {
          "output_type": "execute_result",
          "data": {
            "text/html": [
              "<div>\n",
              "<style scoped>\n",
              "    .dataframe tbody tr th:only-of-type {\n",
              "        vertical-align: middle;\n",
              "    }\n",
              "\n",
              "    .dataframe tbody tr th {\n",
              "        vertical-align: top;\n",
              "    }\n",
              "\n",
              "    .dataframe thead th {\n",
              "        text-align: right;\n",
              "    }\n",
              "</style>\n",
              "<table border=\"1\" class=\"dataframe\">\n",
              "  <thead>\n",
              "    <tr style=\"text-align: right;\">\n",
              "      <th></th>\n",
              "      <th>0</th>\n",
              "      <th>1</th>\n",
              "      <th>2</th>\n",
              "      <th>3</th>\n",
              "      <th>4</th>\n",
              "    </tr>\n",
              "  </thead>\n",
              "  <tbody>\n",
              "    <tr>\n",
              "      <th>0</th>\n",
              "      <td>SL</td>\n",
              "      <td>Year</td>\n",
              "      <td>Area (Million Hectares)</td>\n",
              "      <td>Production (Million Tonnes)</td>\n",
              "      <td>Yield (Kg/Hectare)</td>\n",
              "    </tr>\n",
              "    <tr>\n",
              "      <th>1</th>\n",
              "      <td>1.</td>\n",
              "      <td>1950-51</td>\n",
              "      <td>30.81</td>\n",
              "      <td>20.58</td>\n",
              "      <td>668</td>\n",
              "    </tr>\n",
              "    <tr>\n",
              "      <th>2</th>\n",
              "      <td>2.</td>\n",
              "      <td>1951-52</td>\n",
              "      <td>29.83</td>\n",
              "      <td>21.30</td>\n",
              "      <td>714</td>\n",
              "    </tr>\n",
              "    <tr>\n",
              "      <th>3</th>\n",
              "      <td>3.</td>\n",
              "      <td>1952-53</td>\n",
              "      <td>29.97</td>\n",
              "      <td>22.90</td>\n",
              "      <td>764</td>\n",
              "    </tr>\n",
              "    <tr>\n",
              "      <th>4</th>\n",
              "      <td>4.</td>\n",
              "      <td>1953-54</td>\n",
              "      <td>31.29</td>\n",
              "      <td>28.21</td>\n",
              "      <td>902</td>\n",
              "    </tr>\n",
              "    <tr>\n",
              "      <th>5</th>\n",
              "      <td>5.</td>\n",
              "      <td>1954-55</td>\n",
              "      <td>30.77</td>\n",
              "      <td>25.22</td>\n",
              "      <td>820</td>\n",
              "    </tr>\n",
              "    <tr>\n",
              "      <th>6</th>\n",
              "      <td>6.</td>\n",
              "      <td>1955-56</td>\n",
              "      <td>31.52</td>\n",
              "      <td>27.56</td>\n",
              "      <td>874</td>\n",
              "    </tr>\n",
              "    <tr>\n",
              "      <th>7</th>\n",
              "      <td>7.</td>\n",
              "      <td>1956-57</td>\n",
              "      <td>32.28</td>\n",
              "      <td>29.04</td>\n",
              "      <td>900</td>\n",
              "    </tr>\n",
              "    <tr>\n",
              "      <th>8</th>\n",
              "      <td>8.</td>\n",
              "      <td>1957-58</td>\n",
              "      <td>32.30</td>\n",
              "      <td>25.53</td>\n",
              "      <td>790</td>\n",
              "    </tr>\n",
              "    <tr>\n",
              "      <th>9</th>\n",
              "      <td>9.</td>\n",
              "      <td>1958-59</td>\n",
              "      <td>33.17</td>\n",
              "      <td>30.85</td>\n",
              "      <td>930</td>\n",
              "    </tr>\n",
              "    <tr>\n",
              "      <th>10</th>\n",
              "      <td>10.</td>\n",
              "      <td>1959-60</td>\n",
              "      <td>33.82</td>\n",
              "      <td>31.68</td>\n",
              "      <td>937</td>\n",
              "    </tr>\n",
              "    <tr>\n",
              "      <th>11</th>\n",
              "      <td>11.</td>\n",
              "      <td>1960-61</td>\n",
              "      <td>34.13</td>\n",
              "      <td>34.58</td>\n",
              "      <td>1013</td>\n",
              "    </tr>\n",
              "    <tr>\n",
              "      <th>12</th>\n",
              "      <td>12.</td>\n",
              "      <td>1961-62</td>\n",
              "      <td>34.69</td>\n",
              "      <td>35.66</td>\n",
              "      <td>1028</td>\n",
              "    </tr>\n",
              "    <tr>\n",
              "      <th>13</th>\n",
              "      <td>13.</td>\n",
              "      <td>1962-63</td>\n",
              "      <td>35.69</td>\n",
              "      <td>33.21</td>\n",
              "      <td>931</td>\n",
              "    </tr>\n",
              "    <tr>\n",
              "      <th>14</th>\n",
              "      <td>14.</td>\n",
              "      <td>1963-64</td>\n",
              "      <td>35.81</td>\n",
              "      <td>37.00</td>\n",
              "      <td>1033</td>\n",
              "    </tr>\n",
              "    <tr>\n",
              "      <th>15</th>\n",
              "      <td>15.</td>\n",
              "      <td>1964-65</td>\n",
              "      <td>36.46</td>\n",
              "      <td>39.31</td>\n",
              "      <td>1078</td>\n",
              "    </tr>\n",
              "    <tr>\n",
              "      <th>16</th>\n",
              "      <td>16.</td>\n",
              "      <td>1965-66</td>\n",
              "      <td>35.47</td>\n",
              "      <td>30.59</td>\n",
              "      <td>862</td>\n",
              "    </tr>\n",
              "    <tr>\n",
              "      <th>17</th>\n",
              "      <td>17.</td>\n",
              "      <td>1966-67</td>\n",
              "      <td>35.25</td>\n",
              "      <td>30.44</td>\n",
              "      <td>863</td>\n",
              "    </tr>\n",
              "    <tr>\n",
              "      <th>18</th>\n",
              "      <td>18.</td>\n",
              "      <td>1967-68</td>\n",
              "      <td>36.44</td>\n",
              "      <td>37.61</td>\n",
              "      <td>1032</td>\n",
              "    </tr>\n",
              "    <tr>\n",
              "      <th>19</th>\n",
              "      <td>19.</td>\n",
              "      <td>1968-69</td>\n",
              "      <td>36.97</td>\n",
              "      <td>39.76</td>\n",
              "      <td>1076</td>\n",
              "    </tr>\n",
              "    <tr>\n",
              "      <th>20</th>\n",
              "      <td>20.</td>\n",
              "      <td>1969-70</td>\n",
              "      <td>37.68</td>\n",
              "      <td>40.43</td>\n",
              "      <td>1073</td>\n",
              "    </tr>\n",
              "    <tr>\n",
              "      <th>21</th>\n",
              "      <td>21.</td>\n",
              "      <td>1970-71</td>\n",
              "      <td>37.59</td>\n",
              "      <td>42.22</td>\n",
              "      <td>1123</td>\n",
              "    </tr>\n",
              "    <tr>\n",
              "      <th>22</th>\n",
              "      <td>22.</td>\n",
              "      <td>1971-72</td>\n",
              "      <td>37.76</td>\n",
              "      <td>43.07</td>\n",
              "      <td>1141</td>\n",
              "    </tr>\n",
              "    <tr>\n",
              "      <th>23</th>\n",
              "      <td>23.</td>\n",
              "      <td>1972-73</td>\n",
              "      <td>36.69</td>\n",
              "      <td>39.24</td>\n",
              "      <td>1070</td>\n",
              "    </tr>\n",
              "    <tr>\n",
              "      <th>24</th>\n",
              "      <td>24.</td>\n",
              "      <td>1973-74</td>\n",
              "      <td>38.29</td>\n",
              "      <td>44.05</td>\n",
              "      <td>1151</td>\n",
              "    </tr>\n",
              "    <tr>\n",
              "      <th>25</th>\n",
              "      <td>25.</td>\n",
              "      <td>1974-75</td>\n",
              "      <td>37.89</td>\n",
              "      <td>39.58</td>\n",
              "      <td>1045</td>\n",
              "    </tr>\n",
              "    <tr>\n",
              "      <th>26</th>\n",
              "      <td>26.</td>\n",
              "      <td>1975-76</td>\n",
              "      <td>39.48</td>\n",
              "      <td>48.74</td>\n",
              "      <td>1235</td>\n",
              "    </tr>\n",
              "    <tr>\n",
              "      <th>27</th>\n",
              "      <td>27.</td>\n",
              "      <td>1976-77</td>\n",
              "      <td>38.51</td>\n",
              "      <td>41.92</td>\n",
              "      <td>1088</td>\n",
              "    </tr>\n",
              "    <tr>\n",
              "      <th>28</th>\n",
              "      <td>28.</td>\n",
              "      <td>1977-78</td>\n",
              "      <td>40.28</td>\n",
              "      <td>52.67</td>\n",
              "      <td>1308</td>\n",
              "    </tr>\n",
              "    <tr>\n",
              "      <th>29</th>\n",
              "      <td>29.</td>\n",
              "      <td>1978-79</td>\n",
              "      <td>40.48</td>\n",
              "      <td>53.77</td>\n",
              "      <td>1328</td>\n",
              "    </tr>\n",
              "    <tr>\n",
              "      <th>30</th>\n",
              "      <td>30.</td>\n",
              "      <td>1979-80</td>\n",
              "      <td>39.42</td>\n",
              "      <td>42.33</td>\n",
              "      <td>1074</td>\n",
              "    </tr>\n",
              "    <tr>\n",
              "      <th>31</th>\n",
              "      <td>31.</td>\n",
              "      <td>1980-81</td>\n",
              "      <td>40.15</td>\n",
              "      <td>53.63</td>\n",
              "      <td>1336</td>\n",
              "    </tr>\n",
              "    <tr>\n",
              "      <th>32</th>\n",
              "      <td>32.</td>\n",
              "      <td>1981-82</td>\n",
              "      <td>40.71</td>\n",
              "      <td>53.25</td>\n",
              "      <td>1308</td>\n",
              "    </tr>\n",
              "    <tr>\n",
              "      <th>33</th>\n",
              "      <td>33.</td>\n",
              "      <td>1982-83</td>\n",
              "      <td>38.26</td>\n",
              "      <td>47.12</td>\n",
              "      <td>1231</td>\n",
              "    </tr>\n",
              "    <tr>\n",
              "      <th>34</th>\n",
              "      <td>34.</td>\n",
              "      <td>1983-84</td>\n",
              "      <td>41.24</td>\n",
              "      <td>60.10</td>\n",
              "      <td>1457</td>\n",
              "    </tr>\n",
              "    <tr>\n",
              "      <th>35</th>\n",
              "      <td>35.</td>\n",
              "      <td>1984-85</td>\n",
              "      <td>41.16</td>\n",
              "      <td>58.34</td>\n",
              "      <td>1417</td>\n",
              "    </tr>\n",
              "    <tr>\n",
              "      <th>36</th>\n",
              "      <td>36.</td>\n",
              "      <td>1985-86</td>\n",
              "      <td>41.14</td>\n",
              "      <td>63.83</td>\n",
              "      <td>1552</td>\n",
              "    </tr>\n",
              "    <tr>\n",
              "      <th>37</th>\n",
              "      <td>37.</td>\n",
              "      <td>1986-87</td>\n",
              "      <td>41.17</td>\n",
              "      <td>60.56</td>\n",
              "      <td>1471</td>\n",
              "    </tr>\n",
              "    <tr>\n",
              "      <th>38</th>\n",
              "      <td>38.</td>\n",
              "      <td>1987-88</td>\n",
              "      <td>38.81</td>\n",
              "      <td>56.86</td>\n",
              "      <td>1465</td>\n",
              "    </tr>\n",
              "    <tr>\n",
              "      <th>39</th>\n",
              "      <td>39.</td>\n",
              "      <td>1988-89</td>\n",
              "      <td>41.73</td>\n",
              "      <td>70.49</td>\n",
              "      <td>1689</td>\n",
              "    </tr>\n",
              "    <tr>\n",
              "      <th>40</th>\n",
              "      <td>40.</td>\n",
              "      <td>1989-90</td>\n",
              "      <td>42.17</td>\n",
              "      <td>73.57</td>\n",
              "      <td>1745</td>\n",
              "    </tr>\n",
              "    <tr>\n",
              "      <th>41</th>\n",
              "      <td>41.</td>\n",
              "      <td>1990-91</td>\n",
              "      <td>42.69</td>\n",
              "      <td>74.29</td>\n",
              "      <td>1740</td>\n",
              "    </tr>\n",
              "    <tr>\n",
              "      <th>42</th>\n",
              "      <td>42.</td>\n",
              "      <td>1991-92</td>\n",
              "      <td>42.65</td>\n",
              "      <td>74.68</td>\n",
              "      <td>1751</td>\n",
              "    </tr>\n",
              "    <tr>\n",
              "      <th>43</th>\n",
              "      <td>43.</td>\n",
              "      <td>1992-93</td>\n",
              "      <td>41.78</td>\n",
              "      <td>72.86</td>\n",
              "      <td>1744</td>\n",
              "    </tr>\n",
              "    <tr>\n",
              "      <th>44</th>\n",
              "      <td>44.</td>\n",
              "      <td>1993-94</td>\n",
              "      <td>42.54</td>\n",
              "      <td>80.30</td>\n",
              "      <td>1888</td>\n",
              "    </tr>\n",
              "    <tr>\n",
              "      <th>45</th>\n",
              "      <td>45.</td>\n",
              "      <td>1994-95</td>\n",
              "      <td>42.81</td>\n",
              "      <td>81.81</td>\n",
              "      <td>1911</td>\n",
              "    </tr>\n",
              "    <tr>\n",
              "      <th>46</th>\n",
              "      <td>46.</td>\n",
              "      <td>1995-96</td>\n",
              "      <td>42.84</td>\n",
              "      <td>76.98</td>\n",
              "      <td>1797</td>\n",
              "    </tr>\n",
              "    <tr>\n",
              "      <th>47</th>\n",
              "      <td>47.</td>\n",
              "      <td>1996-97</td>\n",
              "      <td>43.43</td>\n",
              "      <td>81.74</td>\n",
              "      <td>1882</td>\n",
              "    </tr>\n",
              "    <tr>\n",
              "      <th>48</th>\n",
              "      <td>48.</td>\n",
              "      <td>1997-98</td>\n",
              "      <td>43.45</td>\n",
              "      <td>82.53</td>\n",
              "      <td>1900</td>\n",
              "    </tr>\n",
              "    <tr>\n",
              "      <th>49</th>\n",
              "      <td>49.</td>\n",
              "      <td>1998-99</td>\n",
              "      <td>44.80</td>\n",
              "      <td>86.03</td>\n",
              "      <td>1920</td>\n",
              "    </tr>\n",
              "    <tr>\n",
              "      <th>50</th>\n",
              "      <td>50.</td>\n",
              "      <td>1999-00</td>\n",
              "      <td>44.97</td>\n",
              "      <td>89.48</td>\n",
              "      <td>1990</td>\n",
              "    </tr>\n",
              "  </tbody>\n",
              "</table>\n",
              "</div>"
            ],
            "text/plain": [
              "      0        1  ...                            3                   4\n",
              "0    SL     Year  ...  Production (Million Tonnes)  Yield (Kg/Hectare)\n",
              "1    1.  1950-51  ...                        20.58                 668\n",
              "2    2.  1951-52  ...                        21.30                 714\n",
              "3    3.  1952-53  ...                        22.90                 764\n",
              "4    4.  1953-54  ...                        28.21                 902\n",
              "5    5.  1954-55  ...                        25.22                 820\n",
              "6    6.  1955-56  ...                        27.56                 874\n",
              "7    7.  1956-57  ...                        29.04                 900\n",
              "8    8.  1957-58  ...                        25.53                 790\n",
              "9    9.  1958-59  ...                        30.85                 930\n",
              "10  10.  1959-60  ...                        31.68                 937\n",
              "11  11.  1960-61  ...                        34.58                1013\n",
              "12  12.  1961-62  ...                        35.66                1028\n",
              "13  13.  1962-63  ...                        33.21                 931\n",
              "14  14.  1963-64  ...                        37.00                1033\n",
              "15  15.  1964-65  ...                        39.31                1078\n",
              "16  16.  1965-66  ...                        30.59                 862\n",
              "17  17.  1966-67  ...                        30.44                 863\n",
              "18  18.  1967-68  ...                        37.61                1032\n",
              "19  19.  1968-69  ...                        39.76                1076\n",
              "20  20.  1969-70  ...                        40.43                1073\n",
              "21  21.  1970-71  ...                        42.22                1123\n",
              "22  22.  1971-72  ...                        43.07                1141\n",
              "23  23.  1972-73  ...                        39.24                1070\n",
              "24  24.  1973-74  ...                        44.05                1151\n",
              "25  25.  1974-75  ...                        39.58                1045\n",
              "26  26.  1975-76  ...                        48.74                1235\n",
              "27  27.  1976-77  ...                        41.92                1088\n",
              "28  28.  1977-78  ...                        52.67                1308\n",
              "29  29.  1978-79  ...                        53.77                1328\n",
              "30  30.  1979-80  ...                        42.33                1074\n",
              "31  31.  1980-81  ...                        53.63                1336\n",
              "32  32.  1981-82  ...                        53.25                1308\n",
              "33  33.  1982-83  ...                        47.12                1231\n",
              "34  34.  1983-84  ...                        60.10                1457\n",
              "35  35.  1984-85  ...                        58.34                1417\n",
              "36  36.  1985-86  ...                        63.83                1552\n",
              "37  37.  1986-87  ...                        60.56                1471\n",
              "38  38.  1987-88  ...                        56.86                1465\n",
              "39  39.  1988-89  ...                        70.49                1689\n",
              "40  40.  1989-90  ...                        73.57                1745\n",
              "41  41.  1990-91  ...                        74.29                1740\n",
              "42  42.  1991-92  ...                        74.68                1751\n",
              "43  43.  1992-93  ...                        72.86                1744\n",
              "44  44.  1993-94  ...                        80.30                1888\n",
              "45  45.  1994-95  ...                        81.81                1911\n",
              "46  46.  1995-96  ...                        76.98                1797\n",
              "47  47.  1996-97  ...                        81.74                1882\n",
              "48  48.  1997-98  ...                        82.53                1900\n",
              "49  49.  1998-99  ...                        86.03                1920\n",
              "50  50.  1999-00  ...                        89.48                1990\n",
              "\n",
              "[51 rows x 5 columns]"
            ]
          },
          "metadata": {
            "tags": []
          },
          "execution_count": 47
        }
      ]
    },
    {
      "cell_type": "code",
      "metadata": {
        "colab": {
          "base_uri": "https://localhost:8080/"
        },
        "id": "qHfcaoiJUwMn",
        "outputId": "e4622439-33a5-4d81-b72e-492a20c93d94"
      },
      "source": [
        "#comment object\n",
        "ht=\"<p><!--this is a comment --></p>\"\n",
        "soup2=BeautifulSoup(ht)\n",
        "soup2.p  #return wholw p tag\n",
        "soup2.string    #read commenty in p tag"
      ],
      "execution_count": null,
      "outputs": [
        {
          "output_type": "execute_result",
          "data": {
            "text/plain": [
              "<p><!--this is a comment --></p>"
            ]
          },
          "metadata": {
            "tags": []
          },
          "execution_count": 56
        }
      ]
    },
    {
      "cell_type": "code",
      "metadata": {
        "id": "e8rQLr8G0mfv"
      },
      "source": [
        "id1=soup.find(id='----------')\n",
        "id1.childeren    #will return its childs as a generator\n",
        "id1.contents     #will return all elemnts in list\n",
        "id1.parants\n",
        "id1.parant\n",
        "id1.next_sibling\n",
        "id1.previous_sibling"
      ],
      "execution_count": null,
      "outputs": []
    }
  ]
}